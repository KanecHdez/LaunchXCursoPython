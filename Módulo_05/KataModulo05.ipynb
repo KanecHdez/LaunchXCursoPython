{
 "cells": [
  {
   "cell_type": "markdown",
   "metadata": {},
   "source": [
    "Ejercicio1 - Utilizar operadores aritméticos\n",
    "Crear variables para almacenar las dos distancias\n",
    "¡Asegúrate de quitar las comas!\n",
    "Calcular la distancia entre planetas"
   ]
  },
  {
   "cell_type": "code",
   "execution_count": 4,
   "metadata": {},
   "outputs": [
    {
     "name": "stdout",
     "output_type": "stream",
     "text": [
      "Dictancia 628949330 Kilometros\n",
      "Dictancia 390577533.93 Millas\n"
     ]
    }
   ],
   "source": [
    "planeta1 = 149597870\n",
    "planeta2 = 778547200\n",
    "\n",
    "dictanciaKm = planeta2 - planeta1\n",
    "print('Dictancia ' + str(dictanciaKm)+ ' Kilometros')\n",
    "\n",
    "dictanciaMi = dictanciaKm * 0.621\n",
    "print('Dictancia ' + str(dictanciaMi)+ ' Millas')"
   ]
  },
  {
   "cell_type": "markdown",
   "metadata": {},
   "source": [
    "Ejercicio 2: convierte cadenas en números y usa valores absolutos\n",
    "- Almacenar las entradas del usuario\n",
    "- Convierte las cadenas de ambos planetas a números enteros\n",
    "- Realizar el cálculo y determinar el valor absoluto\n",
    "- Convertir de KM a Millas"
   ]
  },
  {
   "cell_type": "code",
   "execution_count": 7,
   "metadata": {},
   "outputs": [
    {
     "name": "stdout",
     "output_type": "stream",
     "text": [
      "Distancia es 470 Kilometros\n",
      "Distancia es 291.87 Millas\n"
     ]
    }
   ],
   "source": [
    "planeta1 = input('Introduzca la distancia entre el sol y el primer planeta en KM')\n",
    "planeta2 = input('Introduzca la distancia entre el sol y el segundo planeta en KM')\n",
    "\n",
    "planeta1 = int(planeta1)\n",
    "planeta2 = int(planeta2)\n",
    "\n",
    "# Realizar el cálculo\n",
    "distance_km = planeta2 - planeta1\n",
    "print('Distancia es ' + str(abs(distance_km)) + ' Kilometros')\n",
    "\n",
    "# Convertir de KM a Millas\n",
    "distance_mi = distance_km * 0.621\n",
    "print('Distancia es ' + str(abs(distance_mi)) + ' Millas')\n",
    "\n",
    "\n"
   ]
  }
 ],
 "metadata": {
  "interpreter": {
   "hash": "bc903aaae5ecbbe1412bd0ecbd86b1b760ae872eea3334ac2d1ead1ed9b9a40c"
  },
  "kernelspec": {
   "display_name": "Python 3.10.2 64-bit (windows store)",
   "language": "python",
   "name": "python3"
  },
  "language_info": {
   "codemirror_mode": {
    "name": "ipython",
    "version": 3
   },
   "file_extension": ".py",
   "mimetype": "text/x-python",
   "name": "python",
   "nbconvert_exporter": "python",
   "pygments_lexer": "ipython3",
   "version": "3.10.2"
  },
  "orig_nbformat": 4
 },
 "nbformat": 4,
 "nbformat_minor": 2
}
