{
 "cells": [
  {
   "cell_type": "markdown",
   "metadata": {},
   "source": [
    "Ejercicio1: Crear y usar listas de Python"
   ]
  },
  {
   "cell_type": "code",
   "execution_count": 3,
   "metadata": {},
   "outputs": [
    {
     "name": "stdout",
     "output_type": "stream",
     "text": [
      "Hay 8 planetas\n",
      "Pluton el el último planeta\n"
     ]
    }
   ],
   "source": [
    "# Creamos la lista de planetas \n",
    "planetas = ['Mercurio', 'Venus', 'Tierra', 'Marte', 'Jupiter', 'Saturno', 'Urano', 'Neptuno']\n",
    "print('Hay', len(planetas), 'planetas')\n",
    "\n",
    "# Agregamos a plutón y mostramos el último elemento\n",
    "\n",
    "planetas.append('Pluton')\n",
    "print(planetas[-1], 'el el último planeta')"
   ]
  },
  {
   "cell_type": "markdown",
   "metadata": {},
   "source": [
    "Ejercicio 2: Trabajando con datos de una lista"
   ]
  },
  {
   "cell_type": "code",
   "execution_count": 4,
   "metadata": {},
   "outputs": [
    {
     "name": "stdout",
     "output_type": "stream",
     "text": [
      "Los Planetas mas cerca del sol que el planeta Marte\n",
      "['Mercurio', 'Venus', 'Tierra']\n",
      "Los Planetas mas lejos del sol que el planeta  Marte\n",
      "['Jupiter', 'Saturno', 'Urano', 'Neptuno']\n"
     ]
    }
   ],
   "source": [
    "# Creamos la lista de planetas \n",
    "planetas = ['Mercurio', 'Venus', 'Tierra', 'Marte', 'Jupiter', 'Saturno', 'Urano', 'Neptuno']\n",
    "\n",
    "# Solicitamos el nombre de un planeta \n",
    "planeta = input('Introduzca el nombre del Planeta')\n",
    "\n",
    "# Buscamos en la lista de planetasa\n",
    "planeta_idx = planetas.index(planeta)\n",
    "\n",
    "# Planetas más cercanos al sol\n",
    "print('Los Planetas mas cerca del sol que el planeta ' + planeta)\n",
    "print(planetas[0:planeta_idx])\n",
    "\n",
    "# Planetas más lejanos al sol\n",
    "print('Los Planetas mas lejos del sol que el planeta  ' + planeta)\n",
    "print(planetas[planeta_idx + 1:])\n"
   ]
  }
 ],
 "metadata": {
  "interpreter": {
   "hash": "bc903aaae5ecbbe1412bd0ecbd86b1b760ae872eea3334ac2d1ead1ed9b9a40c"
  },
  "kernelspec": {
   "display_name": "Python 3.10.2 64-bit (windows store)",
   "language": "python",
   "name": "python3"
  },
  "language_info": {
   "codemirror_mode": {
    "name": "ipython",
    "version": 3
   },
   "file_extension": ".py",
   "mimetype": "text/x-python",
   "name": "python",
   "nbconvert_exporter": "python",
   "pygments_lexer": "ipython3",
   "version": "3.10.2"
  },
  "orig_nbformat": 4
 },
 "nbformat": 4,
 "nbformat_minor": 2
}
